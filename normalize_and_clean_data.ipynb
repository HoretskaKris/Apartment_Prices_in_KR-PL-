{
 "cells": [
  {
   "cell_type": "code",
   "execution_count": 11,
   "metadata": {},
   "outputs": [],
   "source": [
    "import pandas as pd\n",
    "import os\n",
    "from datetime import datetime"
   ]
  },
  {
   "cell_type": "code",
   "execution_count": 12,
   "metadata": {},
   "outputs": [],
   "source": [
    "def load_city_data(city, data_type, source_folder):\n",
    "    '''Завантаження даних про оренду або продаж житла для заданого міста'''\n",
    "    city_folder = os.path.join(source_folder, city)\n",
    "    if data_type == 'sell':\n",
    "        file_pattern = f'{city}_sell_raw_*.csv'\n",
    "    elif data_type == 'rent':\n",
    "        file_pattern = f'{city}_rent_raw_*.csv'\n",
    "    else:\n",
    "        raise ValueError(\"data_type має бути 'sell' або 'rent'\")\n",
    "    \n",
    "    files = [file for file in os.listdir(city_folder) if file.startswith(file_pattern.split('_raw_')[0])]\n",
    "    if not files:\n",
    "        raise FileNotFoundError(f\"Не знайдено файлів для міста {city} та типу даних {data_type}\")\n",
    "    \n",
    "    latest_file = max(files, key=lambda x: os.path.getmtime(os.path.join(city_folder, x)))\n",
    "    return pd.read_csv(os.path.join(city_folder, latest_file))\n"
   ]
  },
  {
   "cell_type": "code",
   "execution_count": 13,
   "metadata": {},
   "outputs": [],
   "source": [
    "def remove_missing_prices(df):\n",
    "    '''Видалення записів з відсутніми цінами'''\n",
    "    return df.dropna(subset=['price'])"
   ]
  },
  {
   "cell_type": "code",
   "execution_count": 14,
   "metadata": {},
   "outputs": [],
   "source": [
    "def fill_missing_features(df):\n",
    "    '''Заповнення пропущених значень у стовпцях hasParkingSpace, hasBalcony, hasElevator, hasSecurity, hasStorageRoom'''\n",
    "    features = ['hasParkingSpace', 'hasBalcony', 'hasElevator', 'hasSecurity', 'hasStorageRoom']\n",
    "    for feature in features:\n",
    "        if feature in df.columns:\n",
    "            df[feature] = df[feature].fillna('no')\n",
    "    return df"
   ]
  },
  {
   "cell_type": "code",
   "execution_count": 15,
   "metadata": {},
   "outputs": [],
   "source": [
    "def replace_yes_no(df):\n",
    "    '''Заміна значень \"yes\" на 1 та \"no\" на 0'''\n",
    "    return df.replace({'yes': 1, 'no': 0})"
   ]
  },
  {
   "cell_type": "code",
   "execution_count": 16,
   "metadata": {},
   "outputs": [],
   "source": [
    "def fill_missing_condition(df):\n",
    "    '''Заповнення пропущених значень у стовпці condition'''\n",
    "    if 'condition' in df.columns:\n",
    "        premium_min = df[df['condition'] == 'premium']['price'].min()\n",
    "        premium_max = df[df['condition'] == 'premium']['price'].max()\n",
    "        low_min = df[df['condition'] == 'low']['price'].min()\n",
    "        low_max = df[df['condition'] == 'low']['price'].max()\n",
    "        \n",
    "        def fill_condition(row):\n",
    "            if pd.isna(row['condition']):\n",
    "                if premium_min <= row['price'] <= premium_max:\n",
    "                    return 'premium'\n",
    "                elif low_min <= row['price'] <= low_max:\n",
    "                    return 'low'\n",
    "                else:\n",
    "                    return 'medium'\n",
    "            return row['condition']\n",
    "        \n",
    "        df['condition'] = df.apply(fill_condition, axis=1)\n",
    "    return df"
   ]
  },
  {
   "cell_type": "code",
   "execution_count": 17,
   "metadata": {},
   "outputs": [],
   "source": [
    "def save_clean_data(df, city, data_type, clean_folder):\n",
    "    # Перевірка наявності папки для міста, якщо її немає - створити\n",
    "    city_folder = os.path.join(clean_folder, city)\n",
    "    os.makedirs(city_folder, exist_ok=True)\n",
    "    timestamp = datetime.now().strftime('%Y%m%d_%H%M%S')\n",
    "    file_name = f'clean_data_{data_type}_{city}_{timestamp}.csv'\n",
    "    file_path = os.path.join(city_folder, file_name)\n",
    "    df.to_csv(file_path, index=False)"
   ]
  },
  {
   "cell_type": "code",
   "execution_count": 18,
   "metadata": {},
   "outputs": [],
   "source": [
    "# Основна функція для очищення та нормалізації даних\n",
    "def clean_and_normalize_data(df):\n",
    "    df = remove_missing_prices(df)\n",
    "    df = fill_missing_features(df)\n",
    "    df = replace_yes_no(df)\n",
    "    df = fill_missing_condition(df)\n",
    "    return df\n"
   ]
  },
  {
   "cell_type": "code",
   "execution_count": 19,
   "metadata": {},
   "outputs": [],
   "source": [
    "def main():\n",
    "  source_folder = r'C:\\Users\\KrisMur\\Desktop\\PetProjekt1\\Apartment_Prices_in_KR-PL-\\raw_city_data'\n",
    "  city = 'Krakow'\n",
    "  data_type = 'sell'\n",
    "  clean_folder = r'C:\\Users\\KrisMur\\Desktop\\PetProjekt1\\Apartment_Prices_in_KR-PL-\\clean_city_data'\n",
    "\n",
    "  # Завантаження даних\n",
    "  df = load_city_data(city, data_type, source_folder)\n",
    "    \n",
    "  # Очищення та нормалізація даних\n",
    "  df_cleaned = clean_and_normalize_data(df)\n",
    "    \n",
    "  # Збереження очищених даних\n",
    "  save_clean_data(df_cleaned, city, data_type, clean_folder)"
   ]
  },
  {
   "cell_type": "code",
   "execution_count": null,
   "metadata": {},
   "outputs": [],
   "source": [
    "if __name__ == \"__main__\":\n",
    "  main()"
   ]
  }
 ],
 "metadata": {
  "kernelspec": {
   "display_name": "Python 3",
   "language": "python",
   "name": "python3"
  },
  "language_info": {
   "codemirror_mode": {
    "name": "ipython",
    "version": 3
   },
   "file_extension": ".py",
   "mimetype": "text/x-python",
   "name": "python",
   "nbconvert_exporter": "python",
   "pygments_lexer": "ipython3",
   "version": "3.12.5"
  }
 },
 "nbformat": 4,
 "nbformat_minor": 2
}
