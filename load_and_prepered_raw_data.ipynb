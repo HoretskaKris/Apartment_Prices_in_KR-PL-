{
 "cells": [
  {
   "cell_type": "code",
   "execution_count": 1,
   "id": "c48489e9",
   "metadata": {},
   "outputs": [],
   "source": [
    "import pandas as pd\n",
    "import os\n",
    "from datetime import datetime"
   ]
  },
  {
   "cell_type": "code",
   "execution_count": 62,
   "id": "d00f2fc9",
   "metadata": {},
   "outputs": [],
   "source": [
    "def load_and_merge_data(folder_path):\n",
    "    '''Функція для завантаження та об'єднання даних'''\n",
    "    # Отримання списку всіх файлів у папці\n",
    "    files = os.listdir(folder_path)\n",
    "\n",
    "    # Списки для зберігання файлів продажу та оренди\n",
    "    sell_files = [file for file in files if 'apartments_pl' in file]\n",
    "    rent_files = [file for file in files if 'apartments_rent_pl' in file]\n",
    "\n",
    "    # Завантаження та об'єднання даних про продаж житла\n",
    "    sell_dataframes = [pd.read_csv(os.path.join(folder_path, file)) for file in sell_files]\n",
    "    sell_df = pd.concat(sell_dataframes, ignore_index=True)\n",
    "\n",
    "    # Завантаження та об'єднання даних про оренду житла\n",
    "    rent_dataframes = [pd.read_csv(os.path.join(folder_path, file)) for file in rent_files]\n",
    "    rent_df = pd.concat(rent_dataframes, ignore_index=True)\n",
    "\n",
    "    return sell_df, rent_df"
   ]
  },
  {
   "cell_type": "code",
   "execution_count": 63,
   "id": "2cf01472",
   "metadata": {},
   "outputs": [],
   "source": [
    "def filter_data_by_city(df, city):\n",
    "    '''Фільтруємо дані та залишаємо лише для міста, яке вибрано'''\n",
    "    return df[df['city'].str.lower() == city.lower()]"
   ]
  },
  {
   "cell_type": "code",
   "execution_count": 64,
   "id": "06bb4710",
   "metadata": {},
   "outputs": [],
   "source": [
    "def save_sell_data_by_city(df, city, output_folder):\n",
    "    '''Збереження даних про продаж житла для заданого міста'''\n",
    "    city_folder = os.path.join(output_folder, city)\n",
    "    os.makedirs(city_folder, exist_ok=True)\n",
    "    timestamp = datetime.now().strftime('%Y%m%d_%H%M%S')\n",
    "    file_path = os.path.join(city_folder, f'{city}_sell_raw_{timestamp}.csv')\n",
    "    df.to_csv(file_path, index=False)"
   ]
  },
  {
   "cell_type": "code",
   "execution_count": 65,
   "id": "c6b88501",
   "metadata": {},
   "outputs": [],
   "source": [
    "def save_rent_data_by_city(df, city, output_folder):\n",
    "    '''Збереження даних про оренду житла для заданого міста'''\n",
    "    city_folder = os.path.join(output_folder, city)\n",
    "    os.makedirs(city_folder, exist_ok=True)\n",
    "    timestamp = datetime.now().strftime('%Y%m%d_%H%M%S')\n",
    "    file_path = os.path.join(city_folder, f'{city}_rent_raw_{timestamp}.csv')\n",
    "    df.to_csv(file_path, index=False)"
   ]
  },
  {
   "cell_type": "code",
   "execution_count": 66,
   "id": "1a36f9ac",
   "metadata": {},
   "outputs": [],
   "source": [
    "def main():\n",
    "  folder_path = r'C:\\Users\\KrisMur\\Desktop\\PetProjekt1\\Apartment_Prices_in_KR-PL-\\raw_data'\n",
    "  city = 'Krakow'\n",
    "  output_folder = r'C:\\Users\\KrisMur\\Desktop\\PetProjekt1\\Apartment_Prices_in_KR-PL-\\raw_city_data'\n",
    "\n",
    "  sell_df, rent_df = load_and_merge_data(folder_path)\n",
    "\n",
    "  # Фільтрація даних для вказаного міста\n",
    "  city_sell_df = filter_data_by_city(sell_df, city)\n",
    "  city_rent_df = filter_data_by_city(rent_df, city)\n",
    "\n",
    "  # Збереження даних для вказаного міста у окремі файли\n",
    "  save_sell_data_by_city(city_sell_df, city, output_folder)\n",
    "  save_rent_data_by_city(city_rent_df, city, output_folder)\n",
    "\n"
   ]
  },
  {
   "cell_type": "code",
   "execution_count": 67,
   "id": "7cd79186",
   "metadata": {},
   "outputs": [],
   "source": [
    "if __name__ == \"__main__\":\n",
    "  main()"
   ]
  }
 ],
 "metadata": {
  "kernelspec": {
   "display_name": "Python 3",
   "language": "python",
   "name": "python3"
  },
  "language_info": {
   "codemirror_mode": {
    "name": "ipython",
    "version": 3
   },
   "file_extension": ".py",
   "mimetype": "text/x-python",
   "name": "python",
   "nbconvert_exporter": "python",
   "pygments_lexer": "ipython3",
   "version": "3.12.5"
  }
 },
 "nbformat": 4,
 "nbformat_minor": 5
}
